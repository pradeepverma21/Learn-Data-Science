{
 "cells": [
  {
   "cell_type": "markdown",
   "id": "5ee409ea",
   "metadata": {},
   "source": [
    "# Introduction to NumPy"
   ]
  },
  {
   "cell_type": "markdown",
   "id": "bfed723f",
   "metadata": {},
   "source": [
    "## What is Numpy ?"
   ]
  },
  {
   "cell_type": "markdown",
   "id": "749a53de",
   "metadata": {},
   "source": [
    "NumPy is a Python library used for working with arrays.  \n",
    "\n",
    "It also has functions for working in domain of linear algebra, fourier transform, and matrices.  \n",
    "\n",
    "NumPy was created in **_2005_** by **Travis Oliphant**.   \n",
    "\n",
    "It is an open source project and you can use it freely.  \n",
    "\n",
    "NumPy stands for Numerical Python."
   ]
  },
  {
   "cell_type": "markdown",
   "id": "a4900cab",
   "metadata": {},
   "source": [
    "## Why to use Numpy ?"
   ]
  },
  {
   "cell_type": "markdown",
   "id": "b61490b3",
   "metadata": {},
   "source": [
    "In Python we have lists that serve the purpose of arrays, but they are slow to process.  \n",
    "\n",
    "NumPy aims to provide an array object that is up to 50x faster than traditional Python lists.  \n",
    "\n",
    "The array object in NumPy is called ndarray, it provides a lot of supporting functions that make working with ndarray very easy.  \n",
    "\n",
    "Arrays are very frequently used in data science, where speed and resources are very important.  "
   ]
  },
  {
   "cell_type": "markdown",
   "id": "5ea22f4c",
   "metadata": {},
   "source": [
    "## Why Numpy are better than List ?"
   ]
  },
  {
   "cell_type": "markdown",
   "id": "d99793e8",
   "metadata": {},
   "source": [
    "NumPy arrays are stored at one continuous place in memory unlike lists, so processes can access and manipulate them very efficiently.  \n",
    "\n",
    "This behavior is called **locality of reference** in computer science.  \n",
    "\n",
    "This is the main reason why NumPy is faster than lists. Also it is optimized to work with latest CPU architecture.  "
   ]
  },
  {
   "cell_type": "markdown",
   "id": "4bdde46c",
   "metadata": {},
   "source": [
    "### Lets use the Numpy module"
   ]
  },
  {
   "cell_type": "code",
   "execution_count": 1,
   "id": "030ac847",
   "metadata": {},
   "outputs": [],
   "source": [
    "import numpy     # importing the numpy module"
   ]
  },
  {
   "cell_type": "code",
   "execution_count": 2,
   "id": "3dcc14b8",
   "metadata": {},
   "outputs": [
    {
     "data": {
      "text/plain": [
       "'1.23.5'"
      ]
     },
     "execution_count": 2,
     "metadata": {},
     "output_type": "execute_result"
    }
   ],
   "source": [
    "numpy.__version__"
   ]
  },
  {
   "cell_type": "code",
   "execution_count": 3,
   "id": "deeb77fa",
   "metadata": {},
   "outputs": [],
   "source": [
    "import numpy as np  # as is an alias "
   ]
  },
  {
   "cell_type": "code",
   "execution_count": 5,
   "id": "a05a8d65",
   "metadata": {},
   "outputs": [
    {
     "data": {
      "text/plain": [
       "'1.23.5'"
      ]
     },
     "execution_count": 5,
     "metadata": {},
     "output_type": "execute_result"
    }
   ],
   "source": [
    "np.__version__   # same as written above"
   ]
  },
  {
   "cell_type": "markdown",
   "id": "efc40969",
   "metadata": {},
   "source": [
    "### So this was the introduction to numpy. "
   ]
  }
 ],
 "metadata": {
  "kernelspec": {
   "display_name": "Python 3 (ipykernel)",
   "language": "python",
   "name": "python3"
  },
  "language_info": {
   "codemirror_mode": {
    "name": "ipython",
    "version": 3
   },
   "file_extension": ".py",
   "mimetype": "text/x-python",
   "name": "python",
   "nbconvert_exporter": "python",
   "pygments_lexer": "ipython3",
   "version": "3.10.9"
  }
 },
 "nbformat": 4,
 "nbformat_minor": 5
}
