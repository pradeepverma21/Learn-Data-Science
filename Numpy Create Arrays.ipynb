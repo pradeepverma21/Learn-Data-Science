{
 "cells": [
  {
   "cell_type": "markdown",
   "id": "f350fd33",
   "metadata": {},
   "source": [
    "# Create a Numpy ndarray object"
   ]
  },
  {
   "cell_type": "markdown",
   "id": "83a233e4",
   "metadata": {},
   "source": [
    "Numpy is used to work with arrays. The object in numpy is called **ndarray**.\n",
    "\n",
    "We can create Numpy **_ndarray_** using the **_array() function_**."
   ]
  },
  {
   "cell_type": "code",
   "execution_count": 1,
   "id": "8738b01f",
   "metadata": {},
   "outputs": [
    {
     "name": "stdout",
     "output_type": "stream",
     "text": [
      "[1 2 3 4]\n",
      "<class 'numpy.ndarray'>\n"
     ]
    }
   ],
   "source": [
    "import numpy as np\n",
    "\n",
    "arr = np.array([1,2,3,4])\n",
    "\n",
    "print(arr)         # print the array\n",
    "\n",
    "print(type(arr))   # print the type of array\n"
   ]
  },
  {
   "cell_type": "markdown",
   "id": "05275e01",
   "metadata": {},
   "source": [
    "To create an ndarray, we can pass a __list__, __tuple__, or any array like object into __array() function__  \n",
    "and it will converted into an ndarray."
   ]
  },
  {
   "cell_type": "markdown",
   "id": "504728f5",
   "metadata": {},
   "source": [
    "### Example"
   ]
  },
  {
   "cell_type": "markdown",
   "id": "c811c0b7",
   "metadata": {},
   "source": [
    "Use a tuple to create an ndarray"
   ]
  },
  {
   "cell_type": "code",
   "execution_count": 2,
   "id": "5564c43f",
   "metadata": {},
   "outputs": [
    {
     "name": "stdout",
     "output_type": "stream",
     "text": [
      "[1 2 3 4]\n",
      "<class 'numpy.ndarray'>\n"
     ]
    }
   ],
   "source": [
    "arr = np.array((1,2,3,4))\n",
    "\n",
    "print(arr)\n",
    "\n",
    "print(type(arr))"
   ]
  },
  {
   "cell_type": "markdown",
   "id": "17720f32",
   "metadata": {},
   "source": [
    "# Dimensions in array"
   ]
  },
  {
   "cell_type": "markdown",
   "id": "cbcfb218",
   "metadata": {},
   "source": [
    "A dimension in arrays is one level of array depth (nested arrays).  \n",
    "\n",
    "nested array: are arrays that have arrays as their elements.  "
   ]
  },
  {
   "cell_type": "markdown",
   "id": "7042e077",
   "metadata": {},
   "source": [
    "## 0-D array"
   ]
  },
  {
   "cell_type": "markdown",
   "id": "681bcef3",
   "metadata": {},
   "source": [
    "0-D arrays or **Scalars** are the elements in the array. Each value in an array is a 0-D array."
   ]
  },
  {
   "cell_type": "markdown",
   "id": "e60a6df0",
   "metadata": {},
   "source": [
    "* Example :"
   ]
  },
  {
   "cell_type": "code",
   "execution_count": 4,
   "id": "90658b23",
   "metadata": {},
   "outputs": [
    {
     "name": "stdout",
     "output_type": "stream",
     "text": [
      "13\n",
      "<class 'numpy.ndarray'>\n"
     ]
    }
   ],
   "source": [
    "arr = np.array(13)\n",
    "\n",
    "print(arr)\n",
    "\n",
    "print(type(arr))"
   ]
  },
  {
   "cell_type": "markdown",
   "id": "8bff446a",
   "metadata": {},
   "source": [
    "##  1-D array"
   ]
  },
  {
   "cell_type": "markdown",
   "id": "7f1394be",
   "metadata": {},
   "source": [
    "An array that has 0-D array as its elements is called uni-dimensional or 1-D array"
   ]
  },
  {
   "cell_type": "markdown",
   "id": "af076471",
   "metadata": {},
   "source": [
    "* Example :"
   ]
  },
  {
   "cell_type": "code",
   "execution_count": 6,
   "id": "d633c5a6",
   "metadata": {},
   "outputs": [
    {
     "name": "stdout",
     "output_type": "stream",
     "text": [
      "[1 2 3 4]\n",
      "<class 'numpy.ndarray'>\n"
     ]
    }
   ],
   "source": [
    "arr = np.array([1,2,3,4])\n",
    "\n",
    "print(arr)\n",
    "\n",
    "print(type(arr))"
   ]
  },
  {
   "cell_type": "markdown",
   "id": "6b8b34a8",
   "metadata": {},
   "source": [
    "## 2-D array"
   ]
  },
  {
   "cell_type": "markdown",
   "id": "9e939587",
   "metadata": {},
   "source": [
    "An array that has 1-D array as its element is called a 2-D array.  \n",
    "\n",
    "They are often used to represent a matrix."
   ]
  },
  {
   "cell_type": "markdown",
   "id": "99938794",
   "metadata": {},
   "source": [
    "* Example"
   ]
  },
  {
   "cell_type": "code",
   "execution_count": 9,
   "id": "38e8a959",
   "metadata": {},
   "outputs": [
    {
     "name": "stdout",
     "output_type": "stream",
     "text": [
      "[[1 2 3 4]\n",
      " [5 6 7 8]]\n",
      "<class 'numpy.ndarray'>\n"
     ]
    }
   ],
   "source": [
    "arr = np.array([\n",
    "                [1,2,3,4], \n",
    "                [5,6,7,8]\n",
    "              ])\n",
    "\n",
    "print(arr)\n",
    "\n",
    "print(type(arr))"
   ]
  },
  {
   "cell_type": "markdown",
   "id": "40e089c3",
   "metadata": {},
   "source": [
    "## 3-D array"
   ]
  },
  {
   "cell_type": "markdown",
   "id": "cd9d2337",
   "metadata": {},
   "source": [
    "An array that has 2-D array (matrix) as its element is called 3-D array"
   ]
  },
  {
   "cell_type": "markdown",
   "id": "cfaa7613",
   "metadata": {},
   "source": [
    "* Example :"
   ]
  },
  {
   "cell_type": "code",
   "execution_count": 10,
   "id": "dd6a8773",
   "metadata": {},
   "outputs": [
    {
     "name": "stdout",
     "output_type": "stream",
     "text": [
      "[[[ 1  2  3]\n",
      "  [ 4  5  6]]\n",
      "\n",
      " [[ 7  8  9]\n",
      "  [10 11 12]]]\n"
     ]
    }
   ],
   "source": [
    "arr = np.array([[[1,2,3],[4,5,6]], [[7,8,9],[10,11,12]]])\n",
    "\n",
    "print(arr)"
   ]
  },
  {
   "cell_type": "markdown",
   "id": "bfd50e09",
   "metadata": {},
   "source": [
    "# Checking the dimension of array"
   ]
  },
  {
   "cell_type": "markdown",
   "id": "d6e3dbfb",
   "metadata": {},
   "source": [
    "Numpy array provide **ndim** attribute that returns an integer value that tell us about the dimension of array"
   ]
  },
  {
   "cell_type": "code",
   "execution_count": 12,
   "id": "3c5dfda3",
   "metadata": {},
   "outputs": [
    {
     "name": "stdout",
     "output_type": "stream",
     "text": [
      "0\n",
      "1\n",
      "2\n",
      "3\n"
     ]
    }
   ],
   "source": [
    "a = np.array(13)\n",
    "b = np.array([1,2,3,4])\n",
    "c = np.array([[1,2,3,4],[5,6,7,8]])\n",
    "d = np.array([[[1,2,3],[4,5,6]], [[7,8,9],[10,11,12]]])\n",
    "\n",
    "print(a.ndim)\n",
    "print(b.ndim)\n",
    "print(c.ndim)\n",
    "print(d.ndim)"
   ]
  },
  {
   "cell_type": "markdown",
   "id": "2e1930b5",
   "metadata": {},
   "source": [
    "## Creating higher dimension array"
   ]
  },
  {
   "cell_type": "markdown",
   "id": "c6dcd92d",
   "metadata": {},
   "source": [
    "An array can have any number of dimensions.\n",
    "\n",
    "When the array is created, you can define the number of dimensions by using the **ndmin** argument."
   ]
  },
  {
   "cell_type": "markdown",
   "id": "6dfd24fc",
   "metadata": {},
   "source": [
    "* Example :"
   ]
  },
  {
   "cell_type": "code",
   "execution_count": 13,
   "id": "8caeae85",
   "metadata": {},
   "outputs": [
    {
     "name": "stdout",
     "output_type": "stream",
     "text": [
      "[[[[[[1 2 3 4]]]]]]\n",
      "Dimension of array is : 6\n"
     ]
    }
   ],
   "source": [
    "arr = np.array([1,2,3,4], ndmin = 6)\n",
    "\n",
    "print(arr)\n",
    "\n",
    "print(\"Dimension of array is :\",arr.ndim)"
   ]
  },
  {
   "cell_type": "markdown",
   "id": "e8865177",
   "metadata": {},
   "source": [
    "# Thank You !!!!"
   ]
  },
  {
   "cell_type": "code",
   "execution_count": null,
   "id": "784837b5",
   "metadata": {},
   "outputs": [],
   "source": []
  }
 ],
 "metadata": {
  "kernelspec": {
   "display_name": "Python 3 (ipykernel)",
   "language": "python",
   "name": "python3"
  },
  "language_info": {
   "codemirror_mode": {
    "name": "ipython",
    "version": 3
   },
   "file_extension": ".py",
   "mimetype": "text/x-python",
   "name": "python",
   "nbconvert_exporter": "python",
   "pygments_lexer": "ipython3",
   "version": "3.10.9"
  }
 },
 "nbformat": 4,
 "nbformat_minor": 5
}
