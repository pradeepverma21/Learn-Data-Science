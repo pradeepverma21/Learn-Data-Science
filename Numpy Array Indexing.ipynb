{
 "cells": [
  {
   "cell_type": "markdown",
   "id": "1611511c",
   "metadata": {},
   "source": [
    "# Numpy Array Indexing"
   ]
  },
  {
   "cell_type": "markdown",
   "id": "cef76ebf",
   "metadata": {},
   "source": [
    "Array indexing is the same as accessing an array element.\n",
    "\n",
    "You can access an array element by referring to its index number.\n",
    "\n",
    "The indexes in NumPy arrays start with 0, meaning that the first element has index 0, and the second has index 1 etc."
   ]
  },
  {
   "cell_type": "markdown",
   "id": "2b00a599",
   "metadata": {},
   "source": [
    "* **Example** : Get the first element from the array"
   ]
  },
  {
   "cell_type": "code",
   "execution_count": 2,
   "id": "dd802bcb",
   "metadata": {},
   "outputs": [
    {
     "name": "stdout",
     "output_type": "stream",
     "text": [
      "1\n"
     ]
    }
   ],
   "source": [
    "import numpy as np\n",
    "\n",
    "arr = np.array([1,2,3,4])\n",
    "\n",
    "print(arr[0])"
   ]
  },
  {
   "cell_type": "markdown",
   "id": "f48b3c3a",
   "metadata": {},
   "source": [
    "* **Example** : Get the third and fourth element from the array and add them"
   ]
  },
  {
   "cell_type": "code",
   "execution_count": 3,
   "id": "38d8b6c9",
   "metadata": {},
   "outputs": [
    {
     "name": "stdout",
     "output_type": "stream",
     "text": [
      "14\n"
     ]
    }
   ],
   "source": [
    "arr = np.array([2,4,6,8,10])\n",
    "\n",
    "x = arr[2] + arr[3]\n",
    "\n",
    "print(x)"
   ]
  },
  {
   "cell_type": "markdown",
   "id": "4a6eee94",
   "metadata": {},
   "source": [
    "# Access 2-D Arrays"
   ]
  },
  {
   "cell_type": "markdown",
   "id": "43fa3602",
   "metadata": {},
   "source": [
    "To access elements from 2-D arrays we can use comma separated integers representing the dimension and the index of the element.\n",
    "\n",
    "Think of 2-D arrays like a table with rows and columns, where the dimension represents the row and the index represents the column."
   ]
  },
  {
   "cell_type": "markdown",
   "id": "ec5524f1",
   "metadata": {},
   "source": [
    "* **Example** : Access the element in first row and second column"
   ]
  },
  {
   "cell_type": "code",
   "execution_count": 8,
   "id": "eb5a8758",
   "metadata": {},
   "outputs": [
    {
     "name": "stdout",
     "output_type": "stream",
     "text": [
      "element in first row and second column : 2\n"
     ]
    }
   ],
   "source": [
    "arr = np.array([[1,2,3,4],\n",
    "                [5,6,7,8]])\n",
    "\n",
    "print(\"element in first row and second column :\", arr[0,1])                # it can also be written as arr[0][1]"
   ]
  },
  {
   "cell_type": "markdown",
   "id": "ddba6d69",
   "metadata": {},
   "source": [
    "* **Example** : Access the element in second row fourth column"
   ]
  },
  {
   "cell_type": "code",
   "execution_count": 10,
   "id": "d55fcb10",
   "metadata": {},
   "outputs": [
    {
     "name": "stdout",
     "output_type": "stream",
     "text": [
      "element in first row and second column : 8\n"
     ]
    }
   ],
   "source": [
    "arr  = np.array([[1,2,3,4],\n",
    "                [5,6,7,8]])\n",
    "\n",
    "print(\"element in first row and second column :\", arr[1,3])      # or arr[1][3]"
   ]
  },
  {
   "cell_type": "markdown",
   "id": "270b5ab0",
   "metadata": {},
   "source": [
    "# Access 3-D Arrays"
   ]
  },
  {
   "cell_type": "markdown",
   "id": "8e19cd11",
   "metadata": {},
   "source": [
    "To access elements from 3-D arrays we can use comma separated integers representing the dimensions and the index of the element."
   ]
  },
  {
   "cell_type": "markdown",
   "id": "ef3eab5d",
   "metadata": {},
   "source": [
    "* **Example** : Access the third element of the second array of the first array:"
   ]
  },
  {
   "cell_type": "code",
   "execution_count": 14,
   "id": "323d17cb",
   "metadata": {},
   "outputs": [
    {
     "name": "stdout",
     "output_type": "stream",
     "text": [
      "The third element of the second array of the first array :  7\n"
     ]
    }
   ],
   "source": [
    "arr = np.array([[[1,2,3,4],[5,6,7,8]],[[9,10,11,12],[13,14,15,16]]])\n",
    "\n",
    "print(\"The third element of the second array of the first array : \",arr[0,1,2])\n"
   ]
  },
  {
   "cell_type": "markdown",
   "id": "d6b114a8",
   "metadata": {},
   "source": [
    "* **Explaination** :\n",
    "\n",
    "arr[0, 1, 2] prints the value 7.  \n",
    "\n",
    "And this is why:  \n",
    "\n",
    "The first number represents the first dimension, which contains two arrays:  \n",
    "[[1, 2, 3, 4], [5, 6, 7, 8]]  \n",
    "and:\n",
    "[[9, 10, 11, 12], [13, 14, 15, 16]]  \n",
    "\n",
    "Since we selected 0, we are left with the first array:  \n",
    "[[1, 2, 3, 4], [5, 6, 7, 8]]  \n",
    "\n",
    "The second number represents the second dimension, which also contains two arrays:  \n",
    "[1, 2, 3, 4]  \n",
    "and:  \n",
    "[5, 6, 7, 8]\n",
    "Since we selected 1, we are left with the second array:  \n",
    "[5, 6, 7, 8]  \n",
    "\n",
    "The third number represents the third dimension, which contains four values:  \n",
    "5  \n",
    "6  \n",
    "7  \n",
    "8  \n",
    "Since we selected 2, we end up with the third value:  \n",
    "7"
   ]
  },
  {
   "cell_type": "markdown",
   "id": "7e029177",
   "metadata": {},
   "source": [
    "# Thank You !!!"
   ]
  },
  {
   "cell_type": "code",
   "execution_count": null,
   "id": "2a174393",
   "metadata": {},
   "outputs": [],
   "source": []
  }
 ],
 "metadata": {
  "kernelspec": {
   "display_name": "Python 3 (ipykernel)",
   "language": "python",
   "name": "python3"
  },
  "language_info": {
   "codemirror_mode": {
    "name": "ipython",
    "version": 3
   },
   "file_extension": ".py",
   "mimetype": "text/x-python",
   "name": "python",
   "nbconvert_exporter": "python",
   "pygments_lexer": "ipython3",
   "version": "3.10.9"
  }
 },
 "nbformat": 4,
 "nbformat_minor": 5
}
